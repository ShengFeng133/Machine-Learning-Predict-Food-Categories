{
 "cells": [
  {
   "cell_type": "markdown",
   "metadata": {
    "id": "4t5CZXfQrLgw"
   },
   "source": [
    "\n",
    "EE4414 Team Practice\n",
    "==============================================\n",
    "\n",
    "In this team practice, you will design Convolutional Neural Network(s) to classify food images.\n",
    "\n",
    "\n"
   ]
  },
  {
   "cell_type": "code",
   "execution_count": null,
   "metadata": {
    "collapsed": false,
    "id": "gmSiA8ffrLgy",
    "jupyter": {
     "outputs_hidden": false
    }
   },
   "outputs": [],
   "source": [
    "%matplotlib inline"
   ]
  },
  {
   "cell_type": "code",
   "execution_count": null,
   "metadata": {
    "collapsed": false,
    "id": "PBF9RQdgrLg0",
    "jupyter": {
     "outputs_hidden": false
    }
   },
   "outputs": [],
   "source": [
    "from __future__ import print_function, division\n",
    "\n",
    "import torch\n",
    "import torch.nn as nn\n",
    "import torch.optim as optim\n",
    "from torch.optim import lr_scheduler\n",
    "import numpy as np\n",
    "import torchvision\n",
    "from torchvision import models, transforms\n",
    "from torchvision.datasets.folder import make_dataset\n",
    "from PIL import Image\n",
    "import matplotlib.pyplot as plt\n",
    "import time\n",
    "import os\n",
    "import copy\n",
    "\n",
    "\n",
    "plt.ion()   # interactive mode"
   ]
  },
  {
   "cell_type": "markdown",
   "metadata": {
    "id": "LeVDHluQrLg1"
   },
   "source": [
    "## 1. Loading data\n",
    "\n",
    "Define the dataset, dataloader, and the data augmentation pipeline.\n",
    "\n",
    "The code below loads 5 classes from all 12 classes in the dataset. You need to modify it to load only the classes that you need.\n",
    "\n",
    "***Note: For correctly assessing your code, do not change the file structure of the dataset. Use Pytorch data loading utility (`torch.utils.data`) for customizing your dataset.***"
   ]
  },
  {
   "cell_type": "code",
   "execution_count": null,
   "metadata": {},
   "outputs": [],
   "source": [
    "# Define the dataset class\n",
    "class sg_food_dataset(torch.utils.data.dataset.Dataset):\n",
    "    def __init__(self, root, class_id, transform=None):\n",
    "        self.class_id = class_id\n",
    "        self.root = root\n",
    "        all_classes = sorted(entry.name for entry in os.scandir(root) if entry.is_dir())\n",
    "        if not all_classes:\n",
    "            raise FileNotFoundError(f\"Couldn't find any class folder in {directory}.\")\n",
    "        self.classes = [all_classes[x] for x in class_id]\n",
    "        self.class_to_idx = {cls_name: i for i, cls_name in enumerate(self.classes)}\n",
    "\n",
    "        self.samples = make_dataset(self.root, self.class_to_idx, extensions=('jpg'))\n",
    "        self.transform = transform\n",
    "\n",
    "    def __len__(self):\n",
    "        return len(self.samples)\n",
    "\n",
    "    def __getitem__(self, idx):\n",
    "        path, target = self.samples[idx]\n",
    "        with open(path, \"rb\") as f:\n",
    "            sample = Image.open(f).convert('RGB')\n",
    "        if self.transform is not None:\n",
    "            sample = self.transform(sample)\n",
    "        return sample, target\n"
   ]
  },
  {
   "cell_type": "code",
   "execution_count": null,
   "metadata": {
    "colab": {
     "base_uri": "https://localhost:8080/"
    },
    "collapsed": false,
    "id": "tBd7fi34rLg2",
    "jupyter": {
     "outputs_hidden": false
    },
    "outputId": "60ef10f1-c28d-4c7c-aa84-91f0d3f81c0c"
   },
   "outputs": [],
   "source": [
    "# Data augmentation and normalization for training\n",
    "data_transforms = {\n",
    "    'train': transforms.Compose([\n",
    "        # Define data preparation operations for training set here.\n",
    "        # Tips: Use torchvision.transforms\n",
    "        #       https://pytorch.org/vision/stable/transforms.html\n",
    "        #       Normally this should at least contain resizing (Resize) and data format converting (ToTensor).\n",
    "        transforms.RandomResizedCrop(224),\n",
    "        transforms.RandomHorizontalFlip(),\n",
    "        transforms.ToTensor(),\n",
    "        transforms.Normalize([0.485, 0.456, 0.406], [0.229, 0.224, 0.225]) # ImageNet prior\n",
    "    ]),\n",
    "    'val': transforms.Compose([\n",
    "        # Define data preparation operations for testing/validation set here.\n",
    "        transforms.Resize(256),\n",
    "        transforms.CenterCrop(224),\n",
    "        transforms.ToTensor(),\n",
    "        transforms.Normalize([0.485, 0.456, 0.406], [0.229, 0.224, 0.225]) # ImageNet prior\n",
    "    ]),\n",
    "}\n",
    "\n",
    "data_dir = os.path.join('data', 'sg_food')\n",
    "subfolder = {'train': 'train', 'val': 'val'}\n",
    "\n",
    "# Define the dataset\n",
    "selected_classes = [7,8,9,10,11]\n",
    "n_classes = len(selected_classes)\n",
    "image_datasets = {x: sg_food_dataset(root=os.path.join(data_dir, subfolder[x]),\n",
    "                                     class_id=selected_classes,\n",
    "                                     transform=data_transforms[x]) \n",
    "                  for x in ['train', 'val']}\n",
    "class_names = image_datasets['train'].classes\n",
    "print('selected classes:\\n    id: {}\\n    name: {}'.format(selected_classes, class_names))\n",
    "\n",
    "# Define the dataloader\n",
    "batch_size = 64\n",
    "dataloaders = {x: torch.utils.data.DataLoader(image_datasets[x], batch_size=batch_size,\n",
    "                                             shuffle=True, num_workers=0)\n",
    "              for x in ['train', 'val']}\n",
    "\n",
    "dataset_sizes = {x: len(image_datasets[x]) for x in ['train', 'val']}\n",
    "\n",
    "device = torch.device(\"cuda:0\" if torch.cuda.is_available() else \"cpu\")"
   ]
  },
  {
   "cell_type": "markdown",
   "metadata": {
    "id": "zKTwstr5rLg3"
   },
   "source": [
    "## 2. Visualizing the dataset\n",
    "Fetch a batch of training data from the dataset and visualize them. \n",
    "\n"
   ]
  },
  {
   "cell_type": "code",
   "execution_count": null,
   "metadata": {
    "colab": {
     "base_uri": "https://localhost:8080/",
     "height": 203
    },
    "collapsed": false,
    "id": "Br62OJMkrLg4",
    "jupyter": {
     "outputs_hidden": false
    },
    "outputId": "fafe0901-2f75-42f8-d25c-6187bfba7709"
   },
   "outputs": [],
   "source": [
    "def imshow(inp, title=None):\n",
    "    \"\"\"Imshow for Tensor.\"\"\"\n",
    "    inp = inp.numpy().transpose((1, 2, 0))\n",
    "    mean = np.array([0.485, 0.456, 0.406])\n",
    "    std = np.array([0.229, 0.224, 0.225])\n",
    "    inp = std * inp + mean\n",
    "    inp = np.clip(inp, 0, 1)\n",
    "    plt.imshow(inp)\n",
    "    if title is not None:\n",
    "        plt.title(title)\n",
    "    plt.pause(0.001)  # pause a bit so that plots are updated\n",
    "\n",
    "\n",
    "# Get a batch of training data\n",
    "inputs, classes = next(iter(dataloaders['train']))\n",
    "\n",
    "# Make a grid from batch\n",
    "out = torchvision.utils.make_grid(inputs[:4])\n",
    "\n",
    "imshow(out, title=[class_names[x] for x in classes[:4]])"
   ]
  },
  {
   "cell_type": "markdown",
   "metadata": {
    "id": "9Q0juU6yrLg4"
   },
   "source": [
    "## 3. Defining function to train the model\n",
    "\n",
    "Use a pre-trained CNN model with transfer learning techniques to classify the 5 food categories.\n",
    "\n",
    "(Note: The provided code is only for reference. You can modify the code whichever way you want.)\n"
   ]
  },
  {
   "cell_type": "code",
   "execution_count": null,
   "metadata": {
    "collapsed": false,
    "id": "MvOHFJOLrLg5",
    "jupyter": {
     "outputs_hidden": false
    }
   },
   "outputs": [],
   "source": [
    "def train_model(model, criterion, optimizer, scheduler, num_epochs=24):\n",
    "    # TODO\n",
    "    return model"
   ]
  },
  {
   "cell_type": "markdown",
   "metadata": {
    "id": "PovhPr8erLg6"
   },
   "source": [
    "## 4. Training and validating the model\n",
    "\n",
    "Train your model for minimum 3 epochs."
   ]
  },
  {
   "cell_type": "markdown",
   "metadata": {
    "id": "pFbK_MxrrLg7"
   },
   "source": [
    "### 4.1 Loading pretrained model and defining new classfier layer\n"
   ]
  },
  {
   "cell_type": "code",
   "execution_count": null,
   "metadata": {
    "colab": {
     "base_uri": "https://localhost:8080/",
     "height": 66,
     "referenced_widgets": [
      "2f58dd30b8804fdbaedb32f7b45a765d",
      "83dc3045111349a3bc396efcfc923c81",
      "f2b51add645d4e9da4829ad2c7db778d",
      "00ebfebb1c194ed184cc4417c11373d5",
      "41a586e74dbb4b3ebb68b028768b21b6",
      "065819773be9444baa37dc52e5a49b21",
      "aef84011affa4018995238ff39d6c481",
      "9fb3b0694f454232ac9e4689206e9919",
      "cb45dca9a639411da5e9e90e0d039eac",
      "b9d56836dbfb48ebb716338960220fc1",
      "b557eb61ef1147808bbe134bc9a4d159"
     ]
    },
    "id": "Cp3qI6wurLg7",
    "outputId": "5cdecdd5-e39d-4405-a710-ac5c2ffa3153"
   },
   "outputs": [],
   "source": [
    "# 1. Load the pretrained model and extract the intermediate features.\n",
    "# Tips:     Use torchvision.models\n",
    "#           https://pytorch.org/vision/stable/models.html#classification\n",
    "\n",
    "# (code)\n",
    "\n",
    "# 2. Modify the pretrain model for your task.\n",
    "\n",
    "# (code)\n",
    "\n",
    "# 3. Choose your loss function, optimizer, etc.\n",
    "\n",
    "# (code)\n"
   ]
  },
  {
   "cell_type": "markdown",
   "metadata": {
    "id": "zcIaNoQRrLg7"
   },
   "source": [
    "### 4.2 Printing and visualizing the modified model"
   ]
  },
  {
   "cell_type": "code",
   "execution_count": null,
   "metadata": {
    "colab": {
     "base_uri": "https://localhost:8080/"
    },
    "id": "-7zx2KDYrLg7",
    "outputId": "ee79f7a5-10aa-4f91-843e-107eab63f8db"
   },
   "outputs": [],
   "source": [
    "# TODO\n",
    "# print(model)"
   ]
  },
  {
   "cell_type": "code",
   "execution_count": null,
   "metadata": {
    "colab": {
     "base_uri": "https://localhost:8080/"
    },
    "id": "KHP4EVOgrLg8",
    "outputId": "a4e273ff-41c2-456e-980d-0c6e5fcfba62"
   },
   "outputs": [],
   "source": [
    "# TODO\n",
    "# from torchsummary import summary\n",
    "# summary(model, input_size=xxx)"
   ]
  },
  {
   "cell_type": "markdown",
   "metadata": {
    "id": "FhiykM2DrLg8"
   },
   "source": [
    "### 4.3 Training using train data and evaluating using validation data\n",
    "\n",
    "Train your model for minimum 3 epochs."
   ]
  },
  {
   "cell_type": "code",
   "execution_count": null,
   "metadata": {
    "colab": {
     "base_uri": "https://localhost:8080/"
    },
    "id": "j3abyIAsrLg8",
    "outputId": "0915c1b6-8d13-4a9a-c760-a2ec3980e9b8"
   },
   "outputs": [],
   "source": [
    "# TODO \n",
    "# model_resnet18 = train_model(...)"
   ]
  },
  {
   "cell_type": "markdown",
   "metadata": {
    "id": "GpGNN6NprLg8"
   },
   "source": [
    "## 5. Loading test data\n",
    "\n",
    "Define the dataset and dataloader for testing."
   ]
  },
  {
   "cell_type": "code",
   "execution_count": null,
   "metadata": {
    "colab": {
     "base_uri": "https://localhost:8080/"
    },
    "id": "_ypkRkdxrLg9",
    "outputId": "7d7fe68e-974d-4577-bf6e-775de862feee"
   },
   "outputs": [],
   "source": [
    "test_dir = os.path.join('data', 'sg_food', 'test')\n",
    "\n",
    "# Define the test set.\n",
    "test_dataset = sg_food_dataset(root=test_dir, class_id=selected_classes, transform=data_transforms['val'])\n",
    "test_sizes = len(test_dataset)\n",
    "\n",
    "# Define the dataloader for testing.\n",
    "test_batch_size = 64\n",
    "test_loader = torch.utils.data.DataLoader(test_dataset, batch_size=test_batch_size, shuffle=True, num_workers=0)"
   ]
  },
  {
   "cell_type": "markdown",
   "metadata": {
    "id": "95F95uMTrLg9"
   },
   "source": [
    "## 6. Visualizing the predictions\n",
    "\n",
    "Predict the label on a few testing samples and visualize the results."
   ]
  },
  {
   "cell_type": "code",
   "execution_count": null,
   "metadata": {
    "colab": {
     "base_uri": "https://localhost:8080/",
     "height": 588
    },
    "id": "WXG9jYqUrLg9",
    "outputId": "6a97f351-a467-46ca-f57d-7f3e45ab8c59"
   },
   "outputs": [],
   "source": [
    "# TODO\n",
    "\n",
    "# num_images = 4\n",
    "\n",
    "# (code)\n",
    "\n",
    "# with torch.no_grad():\n",
    "    # Predict on the test set\n",
    "\n",
    "    # (code)\n",
    "\n",
    "    # Print the output images and labels\n",
    "    \n",
    "    # (code)\n"
   ]
  },
  {
   "cell_type": "markdown",
   "metadata": {
    "id": "IrFj948zrLg9"
   },
   "source": [
    "## 7. Evaluating on test set\n",
    "\n",
    "Evaluate your model on the whole test set and compute the accuracy."
   ]
  },
  {
   "cell_type": "code",
   "execution_count": null,
   "metadata": {
    "colab": {
     "base_uri": "https://localhost:8080/"
    },
    "id": "hA9b-O1OrLg9",
    "outputId": "5b3dc662-4d25-4527-e7eb-ef550f5a9a99"
   },
   "outputs": [],
   "source": [
    "model_resnet18.eval()\n",
    "\n",
    "test_acc = 0\n",
    "\n",
    "print('Evaluation')\n",
    "print('-' * 10)\n",
    "\n",
    "with torch.no_grad():\n",
    "    # Iterate over the testing dataset.\n",
    "    for (inputs, labels) in test_loader:\n",
    "        inputs = inputs.to(device)\n",
    "        # Predict on the test set\n",
    "        outputs = model_resnet18(inputs)\n",
    "        _, preds = torch.max(outputs, 1)\n",
    "        preds = preds.cpu()\n",
    "        test_acc += torch.sum(preds == labels.data)\n",
    "\n",
    "# Compute the testing accuracy\n",
    "test_acc = test_acc.double() / test_sizes\n",
    "print('Testing Acc: {:.4f}'.format(test_acc))\n"
   ]
  },
  {
   "cell_type": "code",
   "execution_count": null,
   "metadata": {
    "id": "hmbg5qs8rLg-"
   },
   "outputs": [],
   "source": []
  },
  {
   "cell_type": "code",
   "execution_count": null,
   "metadata": {},
   "outputs": [],
   "source": []
  }
 ],
 "metadata": {
  "accelerator": "GPU",
  "colab": {
   "collapsed_sections": [],
   "name": "team_practice_solution.ipynb",
   "provenance": []
  },
  "interpreter": {
   "hash": "00c6fbf09fb86ed7ecf01e048333a1c76b8ad1980deca82acceeab3893020e4c"
  },
  "kernelspec": {
   "display_name": "Python 3 (ipykernel)",
   "language": "python",
   "name": "python3"
  },
  "language_info": {
   "codemirror_mode": {
    "name": "ipython",
    "version": 3
   },
   "file_extension": ".py",
   "mimetype": "text/x-python",
   "name": "python",
   "nbconvert_exporter": "python",
   "pygments_lexer": "ipython3",
   "version": "3.7.11"
  },
  "widgets": {
   "application/vnd.jupyter.widget-state+json": {
    "00ebfebb1c194ed184cc4417c11373d5": {
     "model_module": "@jupyter-widgets/controls",
     "model_module_version": "1.5.0",
     "model_name": "FloatProgressModel",
     "state": {
      "_dom_classes": [],
      "_model_module": "@jupyter-widgets/controls",
      "_model_module_version": "1.5.0",
      "_model_name": "FloatProgressModel",
      "_view_count": null,
      "_view_module": "@jupyter-widgets/controls",
      "_view_module_version": "1.5.0",
      "_view_name": "ProgressView",
      "bar_style": "success",
      "description": "",
      "description_tooltip": null,
      "layout": "IPY_MODEL_cb45dca9a639411da5e9e90e0d039eac",
      "max": 46830571,
      "min": 0,
      "orientation": "horizontal",
      "style": "IPY_MODEL_9fb3b0694f454232ac9e4689206e9919",
      "value": 46830571
     }
    },
    "065819773be9444baa37dc52e5a49b21": {
     "model_module": "@jupyter-widgets/controls",
     "model_module_version": "1.5.0",
     "model_name": "DescriptionStyleModel",
     "state": {
      "_model_module": "@jupyter-widgets/controls",
      "_model_module_version": "1.5.0",
      "_model_name": "DescriptionStyleModel",
      "_view_count": null,
      "_view_module": "@jupyter-widgets/base",
      "_view_module_version": "1.2.0",
      "_view_name": "StyleView",
      "description_width": ""
     }
    },
    "2f58dd30b8804fdbaedb32f7b45a765d": {
     "model_module": "@jupyter-widgets/controls",
     "model_module_version": "1.5.0",
     "model_name": "HBoxModel",
     "state": {
      "_dom_classes": [],
      "_model_module": "@jupyter-widgets/controls",
      "_model_module_version": "1.5.0",
      "_model_name": "HBoxModel",
      "_view_count": null,
      "_view_module": "@jupyter-widgets/controls",
      "_view_module_version": "1.5.0",
      "_view_name": "HBoxView",
      "box_style": "",
      "children": [
       "IPY_MODEL_f2b51add645d4e9da4829ad2c7db778d",
       "IPY_MODEL_00ebfebb1c194ed184cc4417c11373d5",
       "IPY_MODEL_41a586e74dbb4b3ebb68b028768b21b6"
      ],
      "layout": "IPY_MODEL_83dc3045111349a3bc396efcfc923c81"
     }
    },
    "41a586e74dbb4b3ebb68b028768b21b6": {
     "model_module": "@jupyter-widgets/controls",
     "model_module_version": "1.5.0",
     "model_name": "HTMLModel",
     "state": {
      "_dom_classes": [],
      "_model_module": "@jupyter-widgets/controls",
      "_model_module_version": "1.5.0",
      "_model_name": "HTMLModel",
      "_view_count": null,
      "_view_module": "@jupyter-widgets/controls",
      "_view_module_version": "1.5.0",
      "_view_name": "HTMLView",
      "description": "",
      "description_tooltip": null,
      "layout": "IPY_MODEL_b557eb61ef1147808bbe134bc9a4d159",
      "placeholder": "​",
      "style": "IPY_MODEL_b9d56836dbfb48ebb716338960220fc1",
      "value": " 44.7M/44.7M [00:00&lt;00:00, 119MB/s]"
     }
    },
    "83dc3045111349a3bc396efcfc923c81": {
     "model_module": "@jupyter-widgets/base",
     "model_module_version": "1.2.0",
     "model_name": "LayoutModel",
     "state": {
      "_model_module": "@jupyter-widgets/base",
      "_model_module_version": "1.2.0",
      "_model_name": "LayoutModel",
      "_view_count": null,
      "_view_module": "@jupyter-widgets/base",
      "_view_module_version": "1.2.0",
      "_view_name": "LayoutView",
      "align_content": null,
      "align_items": null,
      "align_self": null,
      "border": null,
      "bottom": null,
      "display": null,
      "flex": null,
      "flex_flow": null,
      "grid_area": null,
      "grid_auto_columns": null,
      "grid_auto_flow": null,
      "grid_auto_rows": null,
      "grid_column": null,
      "grid_gap": null,
      "grid_row": null,
      "grid_template_areas": null,
      "grid_template_columns": null,
      "grid_template_rows": null,
      "height": null,
      "justify_content": null,
      "justify_items": null,
      "left": null,
      "margin": null,
      "max_height": null,
      "max_width": null,
      "min_height": null,
      "min_width": null,
      "object_fit": null,
      "object_position": null,
      "order": null,
      "overflow": null,
      "overflow_x": null,
      "overflow_y": null,
      "padding": null,
      "right": null,
      "top": null,
      "visibility": null,
      "width": null
     }
    },
    "9fb3b0694f454232ac9e4689206e9919": {
     "model_module": "@jupyter-widgets/controls",
     "model_module_version": "1.5.0",
     "model_name": "ProgressStyleModel",
     "state": {
      "_model_module": "@jupyter-widgets/controls",
      "_model_module_version": "1.5.0",
      "_model_name": "ProgressStyleModel",
      "_view_count": null,
      "_view_module": "@jupyter-widgets/base",
      "_view_module_version": "1.2.0",
      "_view_name": "StyleView",
      "bar_color": null,
      "description_width": ""
     }
    },
    "aef84011affa4018995238ff39d6c481": {
     "model_module": "@jupyter-widgets/base",
     "model_module_version": "1.2.0",
     "model_name": "LayoutModel",
     "state": {
      "_model_module": "@jupyter-widgets/base",
      "_model_module_version": "1.2.0",
      "_model_name": "LayoutModel",
      "_view_count": null,
      "_view_module": "@jupyter-widgets/base",
      "_view_module_version": "1.2.0",
      "_view_name": "LayoutView",
      "align_content": null,
      "align_items": null,
      "align_self": null,
      "border": null,
      "bottom": null,
      "display": null,
      "flex": null,
      "flex_flow": null,
      "grid_area": null,
      "grid_auto_columns": null,
      "grid_auto_flow": null,
      "grid_auto_rows": null,
      "grid_column": null,
      "grid_gap": null,
      "grid_row": null,
      "grid_template_areas": null,
      "grid_template_columns": null,
      "grid_template_rows": null,
      "height": null,
      "justify_content": null,
      "justify_items": null,
      "left": null,
      "margin": null,
      "max_height": null,
      "max_width": null,
      "min_height": null,
      "min_width": null,
      "object_fit": null,
      "object_position": null,
      "order": null,
      "overflow": null,
      "overflow_x": null,
      "overflow_y": null,
      "padding": null,
      "right": null,
      "top": null,
      "visibility": null,
      "width": null
     }
    },
    "b557eb61ef1147808bbe134bc9a4d159": {
     "model_module": "@jupyter-widgets/base",
     "model_module_version": "1.2.0",
     "model_name": "LayoutModel",
     "state": {
      "_model_module": "@jupyter-widgets/base",
      "_model_module_version": "1.2.0",
      "_model_name": "LayoutModel",
      "_view_count": null,
      "_view_module": "@jupyter-widgets/base",
      "_view_module_version": "1.2.0",
      "_view_name": "LayoutView",
      "align_content": null,
      "align_items": null,
      "align_self": null,
      "border": null,
      "bottom": null,
      "display": null,
      "flex": null,
      "flex_flow": null,
      "grid_area": null,
      "grid_auto_columns": null,
      "grid_auto_flow": null,
      "grid_auto_rows": null,
      "grid_column": null,
      "grid_gap": null,
      "grid_row": null,
      "grid_template_areas": null,
      "grid_template_columns": null,
      "grid_template_rows": null,
      "height": null,
      "justify_content": null,
      "justify_items": null,
      "left": null,
      "margin": null,
      "max_height": null,
      "max_width": null,
      "min_height": null,
      "min_width": null,
      "object_fit": null,
      "object_position": null,
      "order": null,
      "overflow": null,
      "overflow_x": null,
      "overflow_y": null,
      "padding": null,
      "right": null,
      "top": null,
      "visibility": null,
      "width": null
     }
    },
    "b9d56836dbfb48ebb716338960220fc1": {
     "model_module": "@jupyter-widgets/controls",
     "model_module_version": "1.5.0",
     "model_name": "DescriptionStyleModel",
     "state": {
      "_model_module": "@jupyter-widgets/controls",
      "_model_module_version": "1.5.0",
      "_model_name": "DescriptionStyleModel",
      "_view_count": null,
      "_view_module": "@jupyter-widgets/base",
      "_view_module_version": "1.2.0",
      "_view_name": "StyleView",
      "description_width": ""
     }
    },
    "cb45dca9a639411da5e9e90e0d039eac": {
     "model_module": "@jupyter-widgets/base",
     "model_module_version": "1.2.0",
     "model_name": "LayoutModel",
     "state": {
      "_model_module": "@jupyter-widgets/base",
      "_model_module_version": "1.2.0",
      "_model_name": "LayoutModel",
      "_view_count": null,
      "_view_module": "@jupyter-widgets/base",
      "_view_module_version": "1.2.0",
      "_view_name": "LayoutView",
      "align_content": null,
      "align_items": null,
      "align_self": null,
      "border": null,
      "bottom": null,
      "display": null,
      "flex": null,
      "flex_flow": null,
      "grid_area": null,
      "grid_auto_columns": null,
      "grid_auto_flow": null,
      "grid_auto_rows": null,
      "grid_column": null,
      "grid_gap": null,
      "grid_row": null,
      "grid_template_areas": null,
      "grid_template_columns": null,
      "grid_template_rows": null,
      "height": null,
      "justify_content": null,
      "justify_items": null,
      "left": null,
      "margin": null,
      "max_height": null,
      "max_width": null,
      "min_height": null,
      "min_width": null,
      "object_fit": null,
      "object_position": null,
      "order": null,
      "overflow": null,
      "overflow_x": null,
      "overflow_y": null,
      "padding": null,
      "right": null,
      "top": null,
      "visibility": null,
      "width": null
     }
    },
    "f2b51add645d4e9da4829ad2c7db778d": {
     "model_module": "@jupyter-widgets/controls",
     "model_module_version": "1.5.0",
     "model_name": "HTMLModel",
     "state": {
      "_dom_classes": [],
      "_model_module": "@jupyter-widgets/controls",
      "_model_module_version": "1.5.0",
      "_model_name": "HTMLModel",
      "_view_count": null,
      "_view_module": "@jupyter-widgets/controls",
      "_view_module_version": "1.5.0",
      "_view_name": "HTMLView",
      "description": "",
      "description_tooltip": null,
      "layout": "IPY_MODEL_aef84011affa4018995238ff39d6c481",
      "placeholder": "​",
      "style": "IPY_MODEL_065819773be9444baa37dc52e5a49b21",
      "value": "100%"
     }
    }
   }
  }
 },
 "nbformat": 4,
 "nbformat_minor": 4
}
